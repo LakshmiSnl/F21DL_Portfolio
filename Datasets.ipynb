{
 "cells": [
  {
   "cell_type": "markdown",
   "id": "7445cdf7",
   "metadata": {},
   "source": [
    "Our first dataset: https://www.kaggle.com/datasets/adityakadiwal/water-potability\n",
    "    This dataset contains water quality metrics for 3276 different water bodies.,\n",
    "     Pros:  \n",
    "     -Large number of records\n",
    "     -All numerical values \n",
    "     -Output is binary only \n",
    "     Cons:\n",
    "     -Multiple null values\n",
    "    \n",
    "Our second dataset: https://www.kaggle.com/datasets/michaelacorley/unemployment-and-mental-illness-survey\n",
    "    This dataset contains records that investigate the relation between mental illness and unemployment levels.\n",
    "    Pros:  \n",
    "    -Records with binary values exists\n",
    "    -Large number of attributes      \n",
    "    Cons: \n",
    "    -Few attributes have values within ranges\n",
    "   \n",
    "Our third dataset: https://www.kaggle.com/datasets/sartajbhuvaji/brain-tumor-classification-mri\n",
    "    This dataset contains images to classify brain tumor into 4 categories.\n",
    "    Pros:\n",
    "    -Its an image dataset, so CNN is to be used.\n",
    "    -High accuracy of result\n",
    "    Cons:\n",
    "    -Large number of images to process\n",
    "    "
   ]
  },
  {
   "cell_type": "code",
   "execution_count": null,
   "id": "170768d3",
   "metadata": {},
   "outputs": [],
   "source": []
  }
 ],
 "metadata": {
  "kernelspec": {
   "display_name": "Python 3",
   "language": "python",
   "name": "python3"
  },
  "language_info": {
   "codemirror_mode": {
    "name": "ipython",
    "version": 3
   },
   "file_extension": ".py",
   "mimetype": "text/x-python",
   "name": "python",
   "nbconvert_exporter": "python",
   "pygments_lexer": "ipython3",
   "version": "3.8.8"
  }
 },
 "nbformat": 4,
 "nbformat_minor": 5
}
