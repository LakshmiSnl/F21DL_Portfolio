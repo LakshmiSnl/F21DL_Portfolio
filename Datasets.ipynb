{
 "cells": [
  {
   "cell_type": "markdown",
   "id": "7445cdf7",
   "metadata": {},
   "source": [
    "Our first dataset: https://www.kaggle.com/datasets/adityakadiwal/water-potability\n",
    "This dataset contains water quality metrics for 3276 different water bodies.\n",
    "\n" " Pros:  \n-Large number of records \n -All numerical values \n-Output is binary only  "
    "\n" " Cons:  \n-Multiple null values "
    "\n",
    "Our second dataset: https://www.kaggle.com/datasets/michaelacorley/unemployment-and-mental-illness-survey\n",
    "This dataset contains records that investigate the relation between mental illness and unemployment levels.\n",
    "\n",
    "\n" " Pros:  \n-Records with binary values exists \n -Large number of attributes   "
    "\n" " Cons:  \n- Few attributes have values within ranges "
    "\n"
    "Our third dataset: https://www.kaggle.com/datasets/rashikrahmanpritom/heart-attack-analysis-prediction-dataset/code\n",
    "This dataset contains records to diagnose heart diseases."
    "\n" " Pros:  \n-Large number of records \n -Multiple records \n-Multiple records \n-Multiple records "
    "\n" " Cons:  \n-Large number of records \n -Multiple records \n-Multiple records \n-Multiple records "
   ]
  }
 ],
 "metadata": {
  "kernelspec": {
   "display_name": "Python 3 (ipykernel)",
   "language": "python",
   "name": "python3"
  },
  "language_info": {
   "codemirror_mode": {
    "name": "ipython",
    "version": 3
   },
   "file_extension": ".py",
   "mimetype": "text/x-python",
   "name": "python",
   "nbconvert_exporter": "python",
   "pygments_lexer": "ipython3",
   "version": "3.9.12"
  }
 },
 "nbformat": 4,
 "nbformat_minor": 5
}
